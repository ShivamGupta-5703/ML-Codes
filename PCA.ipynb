{
  "nbformat": 4,
  "nbformat_minor": 0,
  "metadata": {
    "colab": {
      "name": "PCA.ipynb",
      "provenance": [],
      "collapsed_sections": []
    },
    "kernelspec": {
      "name": "python3",
      "display_name": "Python 3"
    },
    "language_info": {
      "name": "python"
    }
  },
  "cells": [
    {
      "cell_type": "code",
      "execution_count": null,
      "metadata": {
        "id": "WNPVmhsr6nAK",
        "colab": {
          "base_uri": "https://localhost:8080/"
        },
        "outputId": "24dc2f18-2c0d-4ae9-b4f5-a904bb39c08a"
      },
      "outputs": [
        {
          "output_type": "stream",
          "name": "stdout",
          "text": [
            "dict_keys(['data', 'target', 'frame', 'feature_names', 'target_names', 'images', 'DESCR'])\n"
          ]
        }
      ],
      "source": [
        "from sklearn.datasets import load_digits\n",
        "dic=load_digits()\n",
        "print(dic.keys())"
      ]
    },
    {
      "cell_type": "code",
      "source": [
        "dic['data']"
      ],
      "metadata": {
        "id": "vXKD_lP9666J",
        "colab": {
          "base_uri": "https://localhost:8080/"
        },
        "outputId": "8e048aa6-4097-4e10-93fc-bcc7a9ab3b0e"
      },
      "execution_count": null,
      "outputs": [
        {
          "output_type": "execute_result",
          "data": {
            "text/plain": [
              "array([[ 0.,  0.,  5., ...,  0.,  0.,  0.],\n",
              "       [ 0.,  0.,  0., ..., 10.,  0.,  0.],\n",
              "       [ 0.,  0.,  0., ..., 16.,  9.,  0.],\n",
              "       ...,\n",
              "       [ 0.,  0.,  1., ...,  6.,  0.,  0.],\n",
              "       [ 0.,  0.,  2., ..., 12.,  0.,  0.],\n",
              "       [ 0.,  0., 10., ..., 12.,  1.,  0.]])"
            ]
          },
          "metadata": {},
          "execution_count": 2
        }
      ]
    },
    {
      "cell_type": "code",
      "source": [
        "dic['data'].shape"
      ],
      "metadata": {
        "id": "HBcYcXCK7FHO",
        "colab": {
          "base_uri": "https://localhost:8080/"
        },
        "outputId": "f508d794-da8d-422b-8c40-fa4f6f76abc6"
      },
      "execution_count": null,
      "outputs": [
        {
          "output_type": "execute_result",
          "data": {
            "text/plain": [
              "(1797, 64)"
            ]
          },
          "metadata": {},
          "execution_count": 3
        }
      ]
    },
    {
      "cell_type": "code",
      "source": [
        "arr=dic['data'][2]\n",
        "print(arr)"
      ],
      "metadata": {
        "id": "eltcbw5X7LJ0",
        "colab": {
          "base_uri": "https://localhost:8080/"
        },
        "outputId": "bd1d4860-930e-4325-8a09-28afe69d38f3"
      },
      "execution_count": null,
      "outputs": [
        {
          "output_type": "stream",
          "name": "stdout",
          "text": [
            "[ 0.  0.  0.  4. 15. 12.  0.  0.  0.  0.  3. 16. 15. 14.  0.  0.  0.  0.\n",
            "  8. 13.  8. 16.  0.  0.  0.  0.  1.  6. 15. 11.  0.  0.  0.  1.  8. 13.\n",
            " 15.  1.  0.  0.  0.  9. 16. 16.  5.  0.  0.  0.  0.  3. 13. 16. 16. 11.\n",
            "  5.  0.  0.  0.  0.  3. 11. 16.  9.  0.]\n"
          ]
        }
      ]
    },
    {
      "cell_type": "code",
      "source": [
        "arr1=arr.reshape(8,8)\n",
        "import matplotlib.pyplot as plt\n",
        "plt.gray()\n",
        "plt.matshow(arr1)"
      ],
      "metadata": {
        "id": "5By5QR0M7TKH",
        "colab": {
          "base_uri": "https://localhost:8080/",
          "height": 310
        },
        "outputId": "1f5abc5a-e755-43a7-f6a7-1b0198e75b54"
      },
      "execution_count": null,
      "outputs": [
        {
          "output_type": "execute_result",
          "data": {
            "text/plain": [
              "<matplotlib.image.AxesImage at 0x7f04d546aad0>"
            ]
          },
          "metadata": {},
          "execution_count": 11
        },
        {
          "output_type": "display_data",
          "data": {
            "text/plain": [
              "<Figure size 432x288 with 0 Axes>"
            ]
          },
          "metadata": {}
        },
        {
          "output_type": "display_data",
          "data": {
            "text/plain": [
              "<Figure size 288x288 with 1 Axes>"
            ],
            "image/png": "[encoded data removed]"
          },
          "metadata": {
            "needs_background": "light"
          }
        }
      ]
    },
    {
      "cell_type": "code",
      "source": [
        "import pandas as pd\n",
        "df=pd.DataFrame(dic['data'],columns=dic['feature_names'])"
      ],
      "metadata": {
        "id": "xf4qPLrl8WY9"
      },
      "execution_count": null,
      "outputs": []
    },
    {
      "cell_type": "code",
      "source": [
        "X=df\n",
        "y=dic['target']"
      ],
      "metadata": {
        "id": "9nsAOFD69Xxj"
      },
      "execution_count": null,
      "outputs": []
    },
    {
      "cell_type": "code",
      "source": [
        "from sklearn.preprocessing import StandardScaler \n",
        "model1=StandardScaler()\n",
        "X_scaled=model1.fit_transform(X)\n",
        "print(X_scaled)"
      ],
      "metadata": {
        "id": "I4Peq0Bh-PWY"
      },
      "execution_count": null,
      "outputs": []
    },
    {
      "cell_type": "code",
      "source": [
        "from sklearn.decomposition import PCA\n",
        "pca=PCA(0.95)\n",
        "X_pca=pca.fit_transform(X)\n",
        "print(\"After Applying PCA, Shape is\",X_pca.shape)\n",
        "print('----------------------------------')\n",
        "print('Previous Shape was',X.shape)"
      ],
      "metadata": {
        "id": "yi-RJ5sK_UUj",
        "colab": {
          "base_uri": "https://localhost:8080/"
        },
        "outputId": "4c3b8f6f-3ab0-406e-c296-87e2e8eceeaa"
      },
      "execution_count": null,
      "outputs": [
        {
          "output_type": "stream",
          "name": "stdout",
          "text": [
            "After Applying PCA, Shape is (1797, 29)\n",
            "----------------------------------\n",
            "Previous Shape was (1797, 64)\n"
          ]
        }
      ]
    },
    {
      "cell_type": "code",
      "source": [
        "pca.explained_variance_ratio_"
      ],
      "metadata": {
        "id": "TLUYx06GBrii",
        "colab": {
          "base_uri": "https://localhost:8080/"
        },
        "outputId": "329e3fb7-683c-4c72-af3a-31f90ddb3d9f"
      },
      "execution_count": null,
      "outputs": [
        {
          "output_type": "execute_result",
          "data": {
            "text/plain": [
              "array([0.14890594, 0.13618771, 0.11794594, 0.08409979, 0.05782415,\n",
              "       0.0491691 , 0.04315987, 0.03661373, 0.03353248, 0.03078806,\n",
              "       0.02372341, 0.02272697, 0.01821863, 0.01773855, 0.01467101,\n",
              "       0.01409716, 0.01318589, 0.01248138, 0.01017718, 0.00905617,\n",
              "       0.00889538, 0.00797123, 0.00767493, 0.00722904, 0.00695889,\n",
              "       0.00596081, 0.00575615, 0.00515158, 0.0048954 ])"
            ]
          },
          "metadata": {},
          "execution_count": 17
        }
      ]
    },
    {
      "cell_type": "code",
      "source": [
        "pca.n_components_"
      ],
      "metadata": {
        "colab": {
          "base_uri": "https://localhost:8080/"
        },
        "id": "P_z3JqKDCElv",
        "outputId": "72b3d7b1-b6ab-41df-9295-8b55fa09ddc2"
      },
      "execution_count": null,
      "outputs": [
        {
          "output_type": "execute_result",
          "data": {
            "text/plain": [
              "29"
            ]
          },
          "metadata": {},
          "execution_count": 22
        }
      ]
    },
    {
      "cell_type": "code",
      "source": [
        "from sklearn.linear_model import LogisticRegression\n",
        "from sklearn.model_selection import train_test_split\n",
        "X_train,X_test,y_train,y_test=train_test_split(X,y,test_size=0.2,random_state=9)\n",
        "logistic=LogisticRegression()\n",
        "logistic.fit(X_train,y_train)\n",
        "print(logistic.score(X_test,y_test))"
      ],
      "metadata": {
        "id": "czwMlz2dDNni",
        "colab": {
          "base_uri": "https://localhost:8080/"
        },
        "outputId": "398e3789-3b2b-4954-93d3-7702d1a274b9"
      },
      "execution_count": null,
      "outputs": [
        {
          "output_type": "stream",
          "name": "stdout",
          "text": [
            "0.9611111111111111\n"
          ]
        },
        {
          "output_type": "stream",
          "name": "stderr",
          "text": [
            "/usr/local/lib/python3.7/dist-packages/sklearn/linear_model/_logistic.py:818: ConvergenceWarning: lbfgs failed to converge (status=1):\n",
            "STOP: TOTAL NO. of ITERATIONS REACHED LIMIT.\n",
            "\n",
            "Increase the number of iterations (max_iter) or scale the data as shown in:\n",
            "    https://scikit-learn.org/stable/modules/preprocessing.html\n",
            "Please also refer to the documentation for alternative solver options:\n",
            "    https://scikit-learn.org/stable/modules/linear_model.html#logistic-regression\n",
            "  extra_warning_msg=_LOGISTIC_SOLVER_CONVERGENCE_MSG,\n"
          ]
        }
      ]
    },
    {
      "cell_type": "code",
      "source": [
        "X_train_pca,X_test_pca,y_train_pca,y_test_pca=train_test_split(X_pca,y,test_size=0.2,random_state=9)\n",
        "logistic1=LogisticRegression()\n",
        "logistic1.fit(X_train_pca,y_train_pca)\n",
        "print(logistic1.score(X_test_pca,y_test_pca))"
      ],
      "metadata": {
        "id": "FuK_g7TQENTt"
      },
      "execution_count": null,
      "outputs": []
    },
    {
      "cell_type": "markdown",
      "source": [
        "# **Dimension Reduction by no of components or columns or features**"
      ],
      "metadata": {
        "id": "tnZqbxcCFPOC"
      }
    },
    {
      "cell_type": "code",
      "source": [
        "pca1=PCA(n_components=2)\n",
        "X_pca1=pca1.fit_transform(X)\n",
        "print(X_pca1.shape)\n"
      ],
      "metadata": {
        "id": "WlOoDNo2FOWs",
        "colab": {
          "base_uri": "https://localhost:8080/"
        },
        "outputId": "eb64f9d2-2e17-4c0a-ba09-561b37f71c25"
      },
      "execution_count": null,
      "outputs": [
        {
          "output_type": "stream",
          "name": "stdout",
          "text": [
            "(1797, 2)\n"
          ]
        }
      ]
    },
    {
      "cell_type": "code",
      "source": [
        "print(X_pca1)\n",
        "print('---------------------------------------')\n",
        "print(pca1.explained_variance_ratio_)"
      ],
      "metadata": {
        "id": "-pX1C7F-GJsC",
        "colab": {
          "base_uri": "https://localhost:8080/"
        },
        "outputId": "3f97d47e-a5c9-4462-9d24-1c058be9f8fb"
      },
      "execution_count": null,
      "outputs": [
        {
          "output_type": "stream",
          "name": "stdout",
          "text": [
            "[[ -1.25947007  21.27488505]\n",
            " [  7.9576037  -20.76869559]\n",
            " [  6.99193073  -9.95598926]\n",
            " ...\n",
            " [ 10.80128392  -6.96025066]\n",
            " [ -4.87210468  12.42395826]\n",
            " [ -0.34438193   6.36554646]]\n",
            "---------------------------------------\n",
            "[0.14890594 0.13618771]\n"
          ]
        }
      ]
    },
    {
      "cell_type": "code",
      "source": [
        "X_train_pca1,X_test_pca1,y_train_pca1,y_test_pca1=train_test_split(X_pca1,y,test_size=0.2,random_state=9)\n",
        "logistic2=LogisticRegression()\n",
        "logistic2.fit(X_train_pca1,y_train_pca1)\n",
        "print(logistic2.score(X_test_pca1,y_test_pca1))"
      ],
      "metadata": {
        "id": "e6riltk2Gpg-",
        "colab": {
          "base_uri": "https://localhost:8080/"
        },
        "outputId": "d0e6e9a8-9101-462f-cb54-c4eb09b41ac6"
      },
      "execution_count": null,
      "outputs": [
        {
          "output_type": "stream",
          "name": "stdout",
          "text": [
            "0.5861111111111111\n"
          ]
        },
        {
          "output_type": "stream",
          "name": "stderr",
          "text": [
            "/usr/local/lib/python3.7/dist-packages/sklearn/linear_model/_logistic.py:818: ConvergenceWarning: lbfgs failed to converge (status=1):\n",
            "STOP: TOTAL NO. of ITERATIONS REACHED LIMIT.\n",
            "\n",
            "Increase the number of iterations (max_iter) or scale the data as shown in:\n",
            "    https://scikit-learn.org/stable/modules/preprocessing.html\n",
            "Please also refer to the documentation for alternative solver options:\n",
            "    https://scikit-learn.org/stable/modules/linear_model.html#logistic-regression\n",
            "  extra_warning_msg=_LOGISTIC_SOLVER_CONVERGENCE_MSG,\n"
          ]
        }
      ]
    }
  ]
}