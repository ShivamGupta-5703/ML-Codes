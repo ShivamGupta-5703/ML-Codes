{
  "nbformat": 4,
  "nbformat_minor": 0,
  "metadata": {
    "colab": {
      "provenance": []
    },
    "kernelspec": {
      "name": "python3",
      "display_name": "Python 3"
    },
    "language_info": {
      "name": "python"
    }
  },
  "cells": [
    {
      "cell_type": "markdown",
      "source": [
        "# **Name --> Shivam Gupta**\n",
        "# **Roll No. --> 48**\n",
        "# **University Roll No. --> 2115500132**\n",
        "# **Section --> \" T \"**"
      ],
      "metadata": {
        "id": "n8muGnNP49D2"
      }
    },
    {
      "cell_type": "code",
      "execution_count": null,
      "metadata": {
        "id": "Y_L7eRmi4KcA"
      },
      "outputs": [],
      "source": [
        "import numpy as np"
      ]
    },
    {
      "cell_type": "code",
      "source": [
        "# 1. Numpy array creating -->\n",
        "\n",
        "array = np.array([1,2,3,4,5])                  # 1-D array.\n",
        "print(array,\"\\n\")\n",
        "\n",
        "My_list = [1,2,3,4,5,6]\n",
        "array1 = np.array(My_list)\n",
        "print(array1,\"\\n\")\n",
        "print(np.ndim(array),\"\\n\")\n",
        "\n",
        "array2 = np.array([[1,2,3],[4,5,6]])\n",
        "print(array2,\"\\n\")\n",
        "print(np.ndim(array2),\"\\n\")"
      ],
      "metadata": {
        "colab": {
          "base_uri": "https://localhost:8080/"
        },
        "id": "lsLimX6z59ow",
        "outputId": "4cca5f8e-1197-4027-d7f0-dbd05984192d"
      },
      "execution_count": null,
      "outputs": [
        {
          "output_type": "stream",
          "name": "stdout",
          "text": [
            "[1 2 3 4 5] \n",
            "\n",
            "[1 2 3 4 5 6] \n",
            "\n",
            "1 \n",
            "\n",
            "[[1 2 3]\n",
            " [4 5 6]] \n",
            "\n",
            "2 \n",
            "\n"
          ]
        }
      ]
    },
    {
      "cell_type": "code",
      "source": [
        "# 2. Numpy array indexing -->\n",
        "\n",
        "print(array[1]+array[3],\"\\n\")              # Sum of elements at index 1 and 3.\n",
        "print(array2[0,1],\"\\n\")                    # Accessing second element of row 1 in 2-D array."
      ],
      "metadata": {
        "colab": {
          "base_uri": "https://localhost:8080/"
        },
        "id": "6d2YPSfb8AXQ",
        "outputId": "c21a14a8-af41-442d-9a5c-403b8dd43e03"
      },
      "execution_count": null,
      "outputs": [
        {
          "output_type": "stream",
          "name": "stdout",
          "text": [
            "6 \n",
            "\n",
            "2 \n",
            "\n"
          ]
        }
      ]
    },
    {
      "cell_type": "code",
      "source": [
        "# 3. Numpy array slicing -->\n",
        "\n",
        "print(array[1:5],\"\\n\")               # Slicing elements from index 1 to index 5."
      ],
      "metadata": {
        "colab": {
          "base_uri": "https://localhost:8080/"
        },
        "id": "KlmyyLor8VDG",
        "outputId": "1e673eea-89e0-4d58-e902-c859ec501665"
      },
      "execution_count": null,
      "outputs": [
        {
          "output_type": "stream",
          "name": "stdout",
          "text": [
            "[2 3 4 5] \n",
            "\n"
          ]
        }
      ]
    },
    {
      "cell_type": "code",
      "source": [
        "# 4. Numpy array Datatypes -->\n",
        "\n",
        "print(type(array))"
      ],
      "metadata": {
        "colab": {
          "base_uri": "https://localhost:8080/"
        },
        "id": "T1IXIDNj8q7I",
        "outputId": "541c6a99-2081-456b-8d42-7354fa897ea6"
      },
      "execution_count": null,
      "outputs": [
        {
          "output_type": "stream",
          "name": "stdout",
          "text": [
            "<class 'numpy.ndarray'>\n"
          ]
        }
      ]
    },
    {
      "cell_type": "code",
      "source": [
        "# 5. Numpy array Copy vs View -->\n",
        "\n",
        "array3 = np.array([1,2,3,4,5])\n",
        "z = array3.copy()                 # creating copy of array3.\n",
        "array3[1] = 19\n",
        "print(array3,\"\\n\",z,\"\\n\")\n",
        "\n",
        "array4 = np.array([1,2,3,4,5])\n",
        "y = array4.view()                 # making view of array4.\n",
        "array4[1] = 19\n",
        "print(array4,\"\\n\",y,\"\\n\")"
      ],
      "metadata": {
        "colab": {
          "base_uri": "https://localhost:8080/"
        },
        "id": "MckZvsFa-oIt",
        "outputId": "40cb9f6e-f1a0-4bfa-bebb-2ba27febc6ee"
      },
      "execution_count": null,
      "outputs": [
        {
          "output_type": "stream",
          "name": "stdout",
          "text": [
            "[ 1 19  3  4  5] \n",
            " [1 2 3 4 5] \n",
            "\n",
            "[ 1 19  3  4  5] \n",
            " [ 1 19  3  4  5] \n",
            "\n"
          ]
        }
      ]
    },
    {
      "cell_type": "code",
      "source": [
        "# 6. Numpy Array Shape -->\n",
        "\n",
        "array5 = np.array([[1,2,3,4],[5,6,7,8]])       # printing shape of array.\n",
        "print(array5.shape,\"\\n\")"
      ],
      "metadata": {
        "colab": {
          "base_uri": "https://localhost:8080/"
        },
        "id": "bKOdQ99H_ICI",
        "outputId": "48421944-07c7-48c5-bd43-55d2297920e8"
      },
      "execution_count": null,
      "outputs": [
        {
          "output_type": "stream",
          "name": "stdout",
          "text": [
            "(2, 4) \n",
            "\n"
          ]
        }
      ]
    },
    {
      "cell_type": "code",
      "source": [
        "# 7. Numpy array Reshape -->\n",
        "\n",
        "array6 = np.array([1,2,3,4,5,6,7,8,9])\n",
        "newarray6 = array6.reshape(3,3)                      # Reshaping 1-D array to 2-D array.\n",
        "print(newarray6,\"\\n\")"
      ],
      "metadata": {
        "colab": {
          "base_uri": "https://localhost:8080/"
        },
        "id": "6yqBcK1l_SIV",
        "outputId": "45020178-bb26-4f49-8703-ba0d1361d93f"
      },
      "execution_count": null,
      "outputs": [
        {
          "output_type": "stream",
          "name": "stdout",
          "text": [
            "[[1 2 3]\n",
            " [4 5 6]\n",
            " [7 8 9]] \n",
            "\n"
          ]
        }
      ]
    },
    {
      "cell_type": "code",
      "source": [
        "# 8. Numpy array Iterating -->\n",
        "\n",
        "array7 = np.array([1,2,3])                        # printing elements of 1-D array.\n",
        "for x in array7:\n",
        "  print(x)\n",
        "print(\"\\n\")\n",
        "\n",
        "array8 = np.array([[1,2,3],[4,5,6]])              # Printing elements of 2-D array.\n",
        "for x in array8:\n",
        "  print(x)\n",
        "print(\"\\n\")\n",
        "for x in array8:                                  # To print all the scalars of 2-D array.\n",
        "  for y in x:\n",
        "    print(y)        \n",
        "print(\"\\n\")"
      ],
      "metadata": {
        "id": "BKLnE7zm_e_M",
        "colab": {
          "base_uri": "https://localhost:8080/"
        },
        "outputId": "b7d8fc6e-b32b-4e53-ad2c-b8020e79e1a2"
      },
      "execution_count": null,
      "outputs": [
        {
          "output_type": "stream",
          "name": "stdout",
          "text": [
            "1\n",
            "2\n",
            "3\n",
            "\n",
            "\n",
            "[1 2 3]\n",
            "[4 5 6]\n",
            "\n",
            "\n",
            "1\n",
            "2\n",
            "3\n",
            "4\n",
            "5\n",
            "6\n",
            "\n",
            "\n"
          ]
        }
      ]
    },
    {
      "cell_type": "code",
      "source": [
        "# 9. Numpy array Join -->\n",
        "\n",
        "array9 = np.array([1,2,3,4])                            # Joining 2 1-D arrays.\n",
        "array10 = np.array([5,6,7,8])\n",
        "array11= np.concatenate((array9,array10))\n",
        "print(array11)\n",
        "print(\"\\n\")"
      ],
      "metadata": {
        "id": "vfkjDdjQGO7u",
        "colab": {
          "base_uri": "https://localhost:8080/"
        },
        "outputId": "2d62f784-b8b1-4a95-d5cf-b4ee0247993f"
      },
      "execution_count": null,
      "outputs": [
        {
          "output_type": "stream",
          "name": "stdout",
          "text": [
            "[1 2 3 4 5 6 7 8]\n",
            "\n",
            "\n"
          ]
        }
      ]
    },
    {
      "cell_type": "code",
      "source": [
        "# 10. Numpy array Split -->\n",
        "\n",
        "array12= np.array([1,2,3,4,5,6,7,8,9])\n",
        "newarr12 = np.array_split(array12,3)                 #spliting one array into 3 arrays.\n",
        "print(newarr12[0])\n",
        "print(newarr12[1])\n",
        "print(newarr12[2])\n",
        "print(\"\\n\")"
      ],
      "metadata": {
        "id": "QMFDk58uGeNk",
        "colab": {
          "base_uri": "https://localhost:8080/"
        },
        "outputId": "e643c6f2-cebd-4670-f9f1-1ee5d8c310be"
      },
      "execution_count": null,
      "outputs": [
        {
          "output_type": "stream",
          "name": "stdout",
          "text": [
            "[1 2 3]\n",
            "[4 5 6]\n",
            "[7 8 9]\n",
            "\n",
            "\n"
          ]
        }
      ]
    },
    {
      "cell_type": "code",
      "source": [
        "# 11. Numpy Searching arrays -->\n",
        "\n",
        "array13 = np.array([1,4,2,4,3,4])       # find indexes where element 4 is present.\n",
        "x = np.where(array13==4)\n",
        "print(x)\n",
        "print(\"\\n\")"
      ],
      "metadata": {
        "id": "rhDXpDceGu3M",
        "colab": {
          "base_uri": "https://localhost:8080/"
        },
        "outputId": "65afe82e-7aea-4d9e-d091-e25bbf0de944"
      },
      "execution_count": null,
      "outputs": [
        {
          "output_type": "stream",
          "name": "stdout",
          "text": [
            "(array([1, 3, 5]),)\n",
            "\n",
            "\n"
          ]
        }
      ]
    },
    {
      "cell_type": "code",
      "source": [
        "# 12. Numpy Sorting arrays -->\n",
        "\n",
        "array14 = np.array([1,0,3,2])\n",
        "print(np.sort(array14))\n",
        "print(\"\\n\")"
      ],
      "metadata": {
        "id": "SgiHLa4iG5L0",
        "colab": {
          "base_uri": "https://localhost:8080/"
        },
        "outputId": "728d1457-2626-49a8-8788-0652ab5dde85"
      },
      "execution_count": null,
      "outputs": [
        {
          "output_type": "stream",
          "name": "stdout",
          "text": [
            "[0 1 2 3]\n",
            "\n",
            "\n"
          ]
        }
      ]
    },
    {
      "cell_type": "code",
      "source": [
        "# 13. Numpy filter array -->\n",
        "\n",
        "array15 = np.array([23,24,25,26])\n",
        "x = [True,True,False,False]\n",
        "newarray15 = array15[x]\n",
        "print(newarray15)\n",
        "print(\"\\n\")"
      ],
      "metadata": {
        "id": "I2o5vZKnHBG3",
        "colab": {
          "base_uri": "https://localhost:8080/"
        },
        "outputId": "3ef36a77-a94c-43c4-eaf0-fb9a40e58fa8"
      },
      "execution_count": null,
      "outputs": [
        {
          "output_type": "stream",
          "name": "stdout",
          "text": [
            "[23 24]\n",
            "\n",
            "\n"
          ]
        }
      ]
    }
  ]
}